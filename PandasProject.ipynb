{
 "cells": [
  {
   "cell_type": "markdown",
   "metadata": {},
   "source": [
    "https://edinburghcyclehire.com/\n",
    "Souřadnnice sanic jsou v Decimal degrees in WGS84. Pro použití na openstreet.org mapách jsou přepočteny na pseudo Mercator projekci.\n",
    "\n"
   ]
  },
  {
   "cell_type": "markdown",
   "metadata": {},
   "source": [
    "### Příprava dat:\n",
    "#### Identifikace chybných hodnot \n",
    "Zdrojová data obsahují nekonzistence v názvech a popisech stanic. Jejich zeměpisná šířka a délka také není u všech údajů stejná (odchylka GPS).\\\n",
    "Odstraněno seskupením stanic dle jejich id a výpočtem průměru souřadnic.\n",
    "\n",
    "\n",
    "#### Redukce počtu proměnných\n",
    "##### Blízké klastry\n",
    "- sloučením stanic vzdálených od sebe méně než 25 metrů se sníží počet stanic o 45 (22,5%). Odstraněno přepsáním v df rides, vymazáním ze df stations, zůstane ta s větším počtem použití.\n",
    "\n",
    "##### Vzdálené klastry\n",
    "- odstraněním stanic vzdálených od sebe více než 50 kilometrů se sníží počet stanic o 1 (Liverpool) - optimalizujeme následný výpočet klastrů. Odstraněno vymazáním v df rides a df stations.  \n",
    "\n",
    "##### Málo četné a dočasné klastry\n",
    " - odstraněním stanic použitých méně než 10 x (pro stanice starší 90 dnů) se sníží počet stanic o 8 (4%). Odstraněno vymazáním v df rides a df stations.\n",
    " - odstraněním dočasných stanic (\"19th to 23rd June\", \"festival\" a \"event\") se sníží počet stanic o 6 (3%). Odstraněno vymazáním v df rides a df stations.\n",
    "\n",
    "Celkem se podařilo snížit množství stanic pro následnou analýzu o 60 t.j. 30 %.\n",
    "\n",
    "\n",
    "\n",
    "\n",
    "lze načíst výšku stanic z openstreetmap.org ?\n",
    "k-means\n",
    "\n",
    "První krok modelování - závěry z obvykle nesupervizovaného modelu jsou vstupem pro následné supervizované modelování\n",
    "Identifikace podezřelých případů \n",
    "\n"
   ]
  },
  {
   "cell_type": "code",
   "execution_count": null,
   "metadata": {},
   "outputs": [],
   "source": []
  },
  {
   "cell_type": "code",
   "execution_count": null,
   "metadata": {},
   "outputs": [],
   "source": [
    "import numpy as np\n",
    "import pandas as pd\n",
    "# import matplotlib.pyplot as plt\n",
    "# import matplotlib.image as mpimg\n",
    "from bokeh.io import output_notebook, show\n",
    "from bokeh.models import WMTSTileSource\n",
    "from bokeh.plotting import figure, ColumnDataSource\n",
    "pd.set_option('display.max_rows', 500)\n",
    "pd.set_option('display.max_columns', 200)\n",
    "pd.set_option('display.max_colwidth', None)\n",
    "pd.set_option('display.width', 500)\n",
    "pd.set_option(\"display.precision\", 14)\n",
    "output_notebook()"
   ]
  },
  {
   "cell_type": "code",
   "execution_count": null,
   "metadata": {},
   "outputs": [],
   "source": [
    "# vyloučit 3 \"jízdy\" s end stanicí 280 (Exhibition Centre Liverpool)\n",
    "rides = pd.read_csv(\"201809-202010.csv\", parse_dates=[0,1], usecols = [\"started_at\",\"ended_at\",\"duration\",\"start_station_id\", \"end_station_id\"])    "
   ]
  },
  {
   "cell_type": "code",
   "execution_count": null,
   "metadata": {},
   "outputs": [],
   "source": [
    "# Vytvoření tabulky obsahující stanice = načtení z csv a dopočítání vzdálenosti mezi stanicemi.\n",
    "# \n",
    "# Vymazána ? koncová stanice id=280 iloc=30 - Exhibition Centre Liverpool (výstava kol).\n",
    "# Celková tabulka stations je vytvořena spojením informací ze \"start\" a \"end\" slouců. Duplicity jsou řešeny vybráním prvního popisu a průměrem souřadnic - vše dle id.\n",
    "# Další nekonzistencí je existence více stanic na jednom místě. Vyberu ty, které mají více použití.\n",
    "# Načtení informací o \"start\" a \"end\" stanicích:\n",
    "# Některé stanice jsou dočasné během akcí - zatím njsou dohromady s ostatními\n",
    "stations = pd.read_csv(\"201809-202010.csv\", index_col = \"start_station_id\", usecols = [\"start_station_id\",\"start_station_name\",\"start_station_description\",\"start_station_latitude\", \"start_station_longitude\"])   \n",
    "end_stations = pd.read_csv(\"201809-202010.csv\", index_col = \"end_station_id\", usecols = [\"end_station_id\",\"end_station_name\",\"end_station_description\",\"end_station_latitude\", \"end_station_longitude\"])  \n",
    "# Přejmenování sloupců a indexu:\n",
    "column_names = {\"start_station_name\":\"name\",\"start_station_description\":\"description\",\"start_station_latitude\":\"latitude\", \"start_station_longitude\":\"longitude\"}\n",
    "stations.rename(columns=column_names, index={\"start_station_id\": \"idd\"}, inplace=True)\n",
    "stations.index.names = ['id']\n",
    "end_column_names = {\"end_station_name\":\"name\",\"end_station_description\":\"description\",\"end_station_latitude\":\"latitude\", \"end_station_longitude\":\"longitude\"}\n",
    "end_stations.rename(columns=end_column_names, index={'end_station_id': 'id'}, inplace=True)\n",
    "end_stations.index.names = ['id']\n",
    "# Sloučení informací o \"start\" a \"end\" stanicích a jejich setřídění:\n",
    "stations = stations.append(end_stations)\n",
    "stations.sort_index(axis=\"index\", inplace = True)\n",
    "# Výpočet průměrných koorinátů a přidání k prvním názvům a popisům stanic:\n",
    "stations_coord_mean = stations.groupby([\"id\"]).mean()\n",
    "stations = stations.groupby([\"id\"]).first()\n",
    "stations[\"latitude\"] = stations_coord_mean[\"latitude\"]\n",
    "stations[\"longitude\"] = stations_coord_mean[\"longitude\"]\n",
    "stations[\"description\"].fillna(\"\", inplace=True)\n",
    "# Vymazána koncová stanice id 280 - Exhibition Centre Liverpool (výstava kol). Lepším řešením je vymazat \"stanice\", které jsou vzdáleny od Edinburgu víc než 50? km.\n",
    "# stations.drop(280, inplace=True)\n",
    "# přepočet wgs84 souřadnic na  Mercator projekci pro použití v WMTS tile map v openstreetmap.org \n",
    "stations[\"mer_x\"] = stations[\"longitude\"] * (6378137 * np.pi/180.0)\n",
    "stations[\"mer_y\"] = np.log(np.tan((90 + stations[\"latitude\"]) * np.pi/360.0)) * 6378137\n",
    "# Vymazání dočasných df:\n",
    "end_stations = end_stations[0:0]\n",
    "stations_coord_mean = stations_coord_mean[0:0]"
   ]
  },
  {
   "cell_type": "code",
   "execution_count": null,
   "metadata": {},
   "outputs": [],
   "source": [
    "# Výpočet první použití stanic:\n",
    "stations[\"first_ride\"] = rides.groupby([\"start_station_id\"]).min()[[\"started_at\"]] \n",
    "stations[\"first_ride_tmp\"] = rides.groupby([\"end_station_id\"]).min()[[\"started_at\"]] \n",
    "mfilter = (stations[\"first_ride\"] > stations[\"first_ride_tmp\"]) | (stations[\"first_ride\"].isnull())\n",
    "stations.loc[mfilter, \"first_ride\"] = stations.loc[mfilter, \"first_ride_tmp\"]\n",
    "stations.drop(\"first_ride_tmp\", axis=1, inplace=True)\n",
    "# Výpočet počtu použití stanic:\n",
    "stations[\"number_of_rides\"] = rides.groupby([\"start_station_id\"])[[\"duration\"]].count()\n",
    "stations[\"number_of_rides\"].fillna(0, inplace = True)\n",
    "stations[\"number_of_rides_tmp\"] = rides.groupby([\"end_station_id\"])[[\"duration\"]].count()\n",
    "stations[\"number_of_rides_tmp\"].fillna(0, inplace = True)\n",
    "stations[\"number_of_rides\"] = stations[\"number_of_rides\"].astype(int) + stations[\"number_of_rides_tmp\"].astype(int)\n",
    "stations.drop(\"number_of_rides_tmp\", axis=1, inplace=True)\n",
    "# Výpočet vzdáleností mezi stanicemi\n",
    "# dx = 2*pi*R/360*(l2-l1); l = odmocnina(d1*d1+ d2*d2)\n",
    "for row2 in range(len(stations.index)): \n",
    "    stations[stations.index[row2]] = -1        # np.NaN vnáží do vlastností sloupce \"float\"\n",
    "    lat2 = stations.iloc[row2, 2]\n",
    "    lon2 = stations.iloc[row2, 3]\n",
    "    for row1 in range(len(stations.index)):\n",
    "        if row1 > row2 :                       # počítám pouze první část vzdáleností - je to rychlejší a lépe se pak vyhledává \n",
    "            lat1 = stations.iloc[row1, 2]\n",
    "            lon1 = stations.iloc[row1, 3]\n",
    "            distance = round(np.sqrt(np.square((lat2 - lat1) * 2 * np.pi * 6378137 / 360) + np.square((lon2 - lon1) * 2 * np.pi * 6378137 / 360)))\n",
    "            stations.iloc[row1, row2+8] = distance.astype(int)"
   ]
  },
  {
   "cell_type": "code",
   "execution_count": null,
   "metadata": {},
   "outputs": [],
   "source": [
    "# Vymazání stanic obsahující v name a description slova \"(19th to 23rd June)\", \"festival\" a \"event\"\n",
    "idx = stations.index[(stations[\"name\"] + stations[\"description\"]).str.lower().str.find(\"(19th to 23rd June)\") > -1]\\\n",
    ".append(stations.index[(stations[\"name\"] + stations[\"description\"]).str.lower().str.find(\"festival\") > -1])\\\n",
    ".append(stations.index[(stations[\"name\"] + stations[\"description\"]).str.lower().str.find(\"event\") > -1])                 # -1 = nenalezeno\n",
    "stations.drop(index=idx, inplace=True)\n",
    "rides.drop(index = rides.index[rides[\"start_station_id\"].isin(idx) | rides[\"end_station_id\"].isin(idx)], inplace=True)\n",
    "\n",
    "# Vymazání stanic, které mají počet použití menší než 10:\n",
    "idx = stations.index[(stations[\"number_of_rides\"] < 10) & (stations[\"first_ride\"] < (pd.Timestamp.utcnow() - pd.Timedelta(90, unit=\"D\")) )]\n",
    "stations.drop(index=idx, inplace=True)\n",
    "rides.drop(index = rides.index[rides[\"start_station_id\"].isin(idx) | rides[\"end_station_id\"].isin(idx)], inplace=True)\n"
   ]
  },
  {
   "cell_type": "code",
   "execution_count": null,
   "metadata": {},
   "outputs": [],
   "source": []
  },
  {
   "cell_type": "code",
   "execution_count": null,
   "metadata": {},
   "outputs": [],
   "source": []
  },
  {
   "cell_type": "code",
   "execution_count": null,
   "metadata": {},
   "outputs": [],
   "source": [
    "# Stanice, které jsou blíže než 25 metrů od sebe:\n",
    "s = []\n",
    "for col in range(8,len(stations.index)):\n",
    "    for row in range(len(stations.index)):\n",
    "        if (stations.iloc[row, col] < 25) & (stations.iloc[row, col] > 0): \n",
    "            s.append(row)\n",
    "stations.iloc[s]"
   ]
  },
  {
   "cell_type": "code",
   "execution_count": null,
   "metadata": {},
   "outputs": [],
   "source": [
    "stations.index[38]"
   ]
  },
  {
   "cell_type": "code",
   "execution_count": null,
   "metadata": {},
   "outputs": [],
   "source": [
    "# Vymazání stanic, které jsou déle než 50 kilometrů od sebe:\n",
    "s = []\n",
    "for col in range(8,len(stations.index)):\n",
    "    for row in range(len(stations.index)):\n",
    "        if (stations.iloc[row, col] > 50000) & (stations.iloc[row, col] > 0): \n",
    "            s.append(( row, col, stations.iloc[row, col] ))\n",
    "s "
   ]
  },
  {
   "cell_type": "code",
   "execution_count": null,
   "metadata": {},
   "outputs": [],
   "source": []
  },
  {
   "cell_type": "code",
   "execution_count": null,
   "metadata": {},
   "outputs": [],
   "source": []
  },
  {
   "cell_type": "code",
   "execution_count": null,
   "metadata": {},
   "outputs": [],
   "source": []
  },
  {
   "cell_type": "code",
   "execution_count": null,
   "metadata": {},
   "outputs": [],
   "source": []
  },
  {
   "cell_type": "code",
   "execution_count": null,
   "metadata": {},
   "outputs": [],
   "source": [
    "# k-means clustering\n",
    "from numpy import unique\n",
    "from numpy import where\n",
    "from sklearn.datasets import make_classification\n",
    "from sklearn.cluster import KMeans\n",
    "from matplotlib import pyplot\n",
    "\n",
    "TOOLTIPS = [(\"id\", \"@{id}\"), (\"(x,y)\", \"(@{latitude}, @{longitude})\"), (\"name\", \"@{name}\"), (\"desc\", \"@{description}\"), (\"rides\", \"@{number_of_rides}\"),]\n",
    "p = figure(plot_width=1200, plot_height=700, tools='reset, pan, wheel_zoom, save, box_zoom', x_range=(-380000,-340000), y_range=(7545000,7553000), \n",
    "           x_axis_type=\"mercator\", y_axis_type=\"mercator\", tooltips=TOOLTIPS, title=\"Edinburg - Just Eat Cycles - 20 klastrů KMeans\") # Edinburg\n",
    "p.add_tile(WMTSTileSource(url=\"https://c.tile.openstreetmap.org/{Z}/{X}/{Y}.png\"))\n",
    "\n",
    "# define dataset\n",
    "X = stations[[\"mer_x\", \"mer_y\"]].values.tolist()\n",
    "W = stations[\"number_of_rides\"].values.tolist()\n",
    "#X, _ = make_classification(n_samples=100, n_features=2, n_informative=2, n_redundant=0, n_clusters_per_class=1, random_state=4)\n",
    "# define the model\n",
    "model = KMeans(n_clusters=20)\n",
    "# fit the model\n",
    "model.fit(X, sample_weight=W)\n",
    "# assign a cluster to each example\n",
    "yhat = model.predict(X, sample_weight=W)\n",
    "# retrieve unique clusters\n",
    "clusters = unique(yhat)\n",
    "# create scatter plot for samples from each cluster\n",
    "for cluster in clusters:\n",
    "    # get row indexes for samples with this cluster\n",
    "    row_ix = where(yhat == cluster)\n",
    "    row_ix = row_ix[0].tolist()\n",
    "    # create scatter of these samples\n",
    "#    pyplot.scatter(X[row_ix[0]][0], X[row_ix[0]][1])\n",
    "    p.scatter(X[row_ix[0]][0], X[row_ix[0]][1], size=W[row_ix[0]]/100, color=\"blue\", alpha=0.3)    # vybírám pouze část sloupců, protože bokeh nemůže mít názvy sloupců čísla !!!\n",
    "    p.scatter(X[row_ix[0]][0], X[row_ix[0]][1], size=30, color=\"yellow\", alpha=1)\n",
    "\n",
    "p.circle(\"mer_x\", \"mer_y\", size=8, color=\"red\", alpha=1, source=ColumnDataSource(data=stations.iloc[:,0:8]))    \n",
    "show(p)\n",
    "\n",
    "#pyplot.show()"
   ]
  },
  {
   "cell_type": "code",
   "execution_count": null,
   "metadata": {},
   "outputs": [],
   "source": [
    "from sklearn.neighbors import KDTree\n",
    "import numpy as np\n",
    "#X = np.array([[-1, -1], [-2, -1], [-3, -2], [1, 1], [2, 1], [3, 2]])\n",
    "X = stations[[\"mer_x\", \"mer_y\"]].values\n",
    "kdt = KDTree(X, leaf_size=30, metric='euclidean')\n",
    "a,b = kdt.query(X, k=2, return_distance=True)\n"
   ]
  },
  {
   "cell_type": "code",
   "execution_count": null,
   "metadata": {},
   "outputs": [],
   "source": [
    "#Query for neighbors within a given radius\n",
    "import numpy as np\n",
    "X = stations[[\"mer_x\", \"mer_y\"]].values\n",
    "tree = KDTree(X, leaf_size=30, metric='euclidean')     # doctest: +SKIP\n",
    "print(tree.query_radius(X[:1], r=25, count_only=True))\n",
    "\n",
    "ind = tree.query_radius(X, r=25, return_distance=True)  # doctest: +SKIP\n",
    "print(ind)  # indices of neighbors within distance 0.3\n",
    "ind[0][0]"
   ]
  },
  {
   "cell_type": "code",
   "execution_count": null,
   "metadata": {},
   "outputs": [],
   "source": [
    "ind"
   ]
  },
  {
   "cell_type": "code",
   "execution_count": null,
   "metadata": {},
   "outputs": [],
   "source": []
  },
  {
   "cell_type": "code",
   "execution_count": null,
   "metadata": {},
   "outputs": [],
   "source": []
  },
  {
   "cell_type": "code",
   "execution_count": null,
   "metadata": {},
   "outputs": [],
   "source": [
    "# openstreetmap používá mercator coordináty\n",
    "TOOLTIPS = [(\"id\", \"@{id}\"), (\"(x,y)\", \"(@{latitude}, @{longitude})\"), (\"name\", \"@{name}\"), (\"desc\", \"@{description}\"), (\"rides\", \"@{number_of_rides}\"),]\n",
    "p = figure(plot_width=1200, plot_height=700, tools='reset, pan, wheel_zoom, save, box_zoom', x_range=(-380000,-340000), y_range=(7545000,7553000), \n",
    "           x_axis_type=\"mercator\", y_axis_type=\"mercator\", tooltips=TOOLTIPS, title=\"Edinburg - Just Eat Cycles\") # Edinburg\n",
    "p.add_tile(WMTSTileSource(url=\"https://c.tile.openstreetmap.org/{Z}/{X}/{Y}.png\"))\n",
    "p.circle(\"mer_x\", \"mer_y\", size=8, color=\"red\", alpha=1, source=ColumnDataSource(data=stations.iloc[:,0:8]))    # vybírám pouze část sloupců, protože bokeh nemůže mít názvy sloupců čísla !!!\n",
    "show(p)"
   ]
  },
  {
   "cell_type": "code",
   "execution_count": null,
   "metadata": {},
   "outputs": [],
   "source": []
  },
  {
   "cell_type": "code",
   "execution_count": null,
   "metadata": {},
   "outputs": [],
   "source": []
  },
  {
   "cell_type": "code",
   "execution_count": null,
   "metadata": {},
   "outputs": [],
   "source": []
  }
 ],
 "metadata": {
  "kernelspec": {
   "display_name": "Python 3",
   "language": "python",
   "name": "python3"
  },
  "language_info": {
   "codemirror_mode": {
    "name": "ipython",
    "version": 3
   },
   "file_extension": ".py",
   "mimetype": "text/x-python",
   "name": "python",
   "nbconvert_exporter": "python",
   "pygments_lexer": "ipython3",
   "version": "3.8.3"
  }
 },
 "nbformat": 4,
 "nbformat_minor": 4
}
