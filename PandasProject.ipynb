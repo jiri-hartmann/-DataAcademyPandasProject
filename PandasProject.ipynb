{
 "cells": [
  {
   "cell_type": "markdown",
   "metadata": {},
   "source": [
    "https://edinburghcyclehire.com/\n",
    "Souřadnnice sanic jsou v Decimal degrees in WGS84. Pro použití na openstreet.org mapách jsou přepočteny na pseudo Mercator projekci.\n",
    "\n"
   ]
  },
  {
   "cell_type": "markdown",
   "metadata": {},
   "source": [
    "### Příprava dat:\n",
    "#### Identifikace chybných hodnot \n",
    "Zdrojová data obsahují nekonzistence v názvech a popisech stanic. Jejich zeměpisná šířka a délka také není u všech údajů stejná (odchylka GPS).\\\n",
    "Odstraněno seskupením stanic dle jejich id a výpočtem průměru souřadnic.\n",
    "\n",
    "\n",
    "#### Redukce počtu proměnných\n",
    "##### Blízké klastry\n",
    "- sloučením stanic vzdálených od sebe méně než 25 metrů se sníží počet stanic o 45 (22,5%). Odstraněno přepsáním v df rides, vymazáním ze df stations.\n",
    "\n",
    "##### Vzdálené klastry\n",
    "- odstraněním stanic vzdálených od sebe více než 50 kilometrů se sníží počet stanic o 1 (Liverpool) - optimalizujeme následný výpočet klastrů. Odstraněno vymazáním v df rides a df stations.  \n",
    "\n",
    "##### Málo četné a dočasné klastry\n",
    " - odstraněním stanic použitých méně než 10 x (pro stanice starší 90 dnů) se sníží počet stanic o 8 (4%). Odstraněno vymazáním v df rides a df stations.\n",
    " - odstraněním dočasných stanic (\"19th to 23rd June\", \"festival\" a \"event\") se sníží počet stanic o 6 (3%). Odstraněno vymazáním v df rides a df stations.\n",
    "\n",
    "Celkem se podařilo snížit množství stanic pro následnou analýzu o 60 t.j. 30 %.\n",
    "\n",
    "\n",
    "\n",
    "\n",
    "lze načíst výšku stanic z openstreetmap.org ?\n",
    "k-means\n",
    "\n",
    "První krok modelování - závěry z obvykle nesupervizovaného modelu jsou vstupem pro následné supervizované modelování\n",
    "Identifikace podezřelých případů \n",
    "\n"
   ]
  },
  {
   "cell_type": "code",
   "execution_count": null,
   "metadata": {},
   "outputs": [],
   "source": []
  },
  {
   "cell_type": "code",
   "execution_count": null,
   "metadata": {},
   "outputs": [],
   "source": [
    "import numpy as np\n",
    "import pandas as pd\n",
    "import datetime as dt\n",
    "# import matplotlib.pyplot as plt\n",
    "# import matplotlib.image as mpimg\n",
    "from bokeh.io import output_notebook, show\n",
    "from bokeh.models import WMTSTileSource\n",
    "from bokeh.plotting import figure, ColumnDataSource\n",
    "from sklearn.neighbors import KDTree\n",
    "pd.set_option('display.max_rows', 500)\n",
    "pd.set_option('display.max_columns', 200)\n",
    "pd.set_option('display.max_colwidth', None)\n",
    "pd.set_option('display.width', 500)\n",
    "pd.set_option(\"display.precision\", 14)\n",
    "output_notebook()"
   ]
  },
  {
   "cell_type": "code",
   "execution_count": null,
   "metadata": {},
   "outputs": [],
   "source": [
    "# vyloučit 3 \"jízdy\" s end stanicí 280 (Exhibition Centre Liverpool)\n",
    "rides = pd.read_csv(\"201809-202010.csv\", parse_dates=[0,1], usecols = [\"started_at\",\"ended_at\",\"duration\",\"start_station_id\", \"end_station_id\"])    "
   ]
  },
  {
   "cell_type": "code",
   "execution_count": null,
   "metadata": {},
   "outputs": [],
   "source": [
    "# Vytvoření tabulky obsahující stanice = načtení z csv \n",
    "# Vymazána ? koncová stanice id=280 iloc=30 - Exhibition Centre Liverpool (výstava kol).\n",
    "# Celková tabulka stations je vytvořena spojením informací ze \"start\" a \"end\" slouců. Duplicity jsou řešeny vybráním prvního popisu a průměrem souřadnic - vše dle id.\n",
    "# Další nekonzistencí je existence více stanic na jednom místě. Vyberu ty, které mají více použití.\n",
    "\n",
    "# Načtení informací o \"start\" a \"end\" stanicích:\n",
    "stations = pd.read_csv(\"201809-202010.csv\", index_col = \"start_station_id\", usecols = [\"start_station_id\",\"start_station_name\",\"start_station_description\",\"start_station_latitude\", \"start_station_longitude\"])   \n",
    "end_stations = pd.read_csv(\"201809-202010.csv\", index_col = \"end_station_id\", usecols = [\"end_station_id\",\"end_station_name\",\"end_station_description\",\"end_station_latitude\", \"end_station_longitude\"])  \n",
    "# Přejmenování sloupců a indexu:\n",
    "column_names = {\"start_station_name\":\"name\",\"start_station_description\":\"description\",\"start_station_latitude\":\"latitude\", \"start_station_longitude\":\"longitude\"}\n",
    "stations.rename(columns=column_names, index={\"start_station_id\": \"idd\"}, inplace=True)\n",
    "stations.index.names = ['id']\n",
    "end_column_names = {\"end_station_name\":\"name\",\"end_station_description\":\"description\",\"end_station_latitude\":\"latitude\", \"end_station_longitude\":\"longitude\"}\n",
    "end_stations.rename(columns=end_column_names, index={'end_station_id': 'id'}, inplace=True)\n",
    "end_stations.index.names = ['id']\n",
    "# Sloučení informací o \"start\" a \"end\" stanicích a jejich setřídění:\n",
    "stations = stations.append(end_stations)\n",
    "stations.sort_index(axis=\"index\", inplace = True)\n",
    "# Výpočet průměrných koorinátů a přidání k prvním názvům a popisům stanic:\n",
    "stations_coord_mean = stations.groupby([\"id\"]).mean()\n",
    "stations = stations.groupby([\"id\"]).first()\n",
    "stations[\"latitude\"] = stations_coord_mean[\"latitude\"]\n",
    "stations[\"longitude\"] = stations_coord_mean[\"longitude\"]\n",
    "stations[\"description\"].fillna(\"\", inplace=True)\n",
    "# Vymazána koncová stanice id 280 - Exhibition Centre Liverpool (výstava kol). Lepším řešením je vymazat \"stanice\", které jsou vzdáleny od Edinburgu víc než 50? km.\n",
    "# stations.drop(280, inplace=True)\n",
    "# přepočet wgs84 souřadnic na  Mercator projekci pro použití v WMTS tile map v openstreetmap.org \n",
    "stations[\"mer_x\"] = stations[\"longitude\"] * (6378137 * np.pi/180.0)\n",
    "stations[\"mer_y\"] = np.log(np.tan((90 + stations[\"latitude\"]) * np.pi/360.0)) * 6378137\n",
    "# Vymazání dočasných df:\n",
    "end_stations = end_stations[0:0]\n",
    "stations_coord_mean = stations_coord_mean[0:0]"
   ]
  },
  {
   "cell_type": "code",
   "execution_count": null,
   "metadata": {},
   "outputs": [],
   "source": [
    "# Výpočet počtu použití stanic (počítá se půjčení a vrácení zvlášť, v případě půjčení a vrácení na stejnou stanici se počítá 2):\n",
    "stations[\"total_rides\"] = rides.groupby([\"start_station_id\"])[[\"duration\"]].count()\n",
    "stations[\"total_rides\"].fillna(0, inplace = True)\n",
    "stations[\"total_rides_tmp\"] = rides.groupby([\"end_station_id\"])[[\"duration\"]].count()\n",
    "stations[\"total_rides_tmp\"].fillna(0, inplace = True)\n",
    "stations[\"total_rides\"] = stations[\"total_rides\"].astype(int) + stations[\"total_rides_tmp\"].astype(int)\n",
    "stations[\"rides\"] = stations[\"total_rides\"]\n",
    "stations.drop(\"total_rides_tmp\", axis=1, inplace=True)\n",
    "# Výpočet celkového použití stanic\n",
    "rides_end = rides.groupby([\"end_station_id\"])[\"end_station_id\"].count()\n",
    "rides_start = rides.groupby([\"start_station_id\"])[\"start_station_id\"].count()\n",
    "idx = rides_end.index.append(rides_start.index).unique()\n",
    "balance = pd.DataFrame(index=idx)\n",
    "balance[\"end\"] = rides_end \n",
    "balance[\"start\"] = rides_start\n",
    "balance.fillna(0, inplace=True)\n",
    "stations[\"total_balance\"] = balance[\"end\"] - balance[\"start\"]\n",
    "stations[\"balance\"] = stations[\"total_balance\"]"
   ]
  },
  {
   "cell_type": "code",
   "execution_count": null,
   "metadata": {},
   "outputs": [],
   "source": [
    "# Vyhledání nejbližších sousedů v poloměru 50 metrů a jejich sloučení v df stations a rides: KD Tree (median x rozdělí body do 2 skupin, pak medián y do 4 skupin, atd.)\n",
    "# Spouštět dokud nachází duplicity\n",
    "X = stations[[\"mer_x\", \"mer_y\"]].values\n",
    "tree = KDTree(X, leaf_size=40, metric='euclidean')     \n",
    "ind = tree.query_radius(X, r=50, return_distance=True, sort_results=True)  # indices of said neighbors\n",
    "duplicity = []\n",
    "for station in range(len(ind[0])):\n",
    "    try:\n",
    "        duplicity.append([ind[0][station][0], ind[0][station][1]]) # , round(ind[1][station][1],1)\n",
    "    except:\n",
    "        pass\n",
    "print(f\"{len(duplicity)} párů souřadnic, t.j {len(duplicity)/2} duplicit.\")\n",
    "\n",
    "rows_for_deletion = []\n",
    "dict_for_substitute = {}\n",
    "for station in duplicity:\n",
    "    if station[0] < station[1]:\n",
    "        row = stations.iloc[station[0]].name\n",
    "        row_for_deletion = stations.iloc[station[1]].name\n",
    "        dict_for_substitute[row_for_deletion] = row\n",
    "        stations.at[row, \"mer_x\"] = (stations.at[row, \"mer_x\"] + stations.at[row_for_deletion, \"mer_x\"])/2\n",
    "        stations.at[row, \"mer_y\"] = (stations.at[row, \"mer_y\"] + stations.at[row_for_deletion, \"mer_y\"])/2\n",
    "        stations.at[row, \"latitude\"] = (stations.at[row, \"latitude\"] + stations.at[row_for_deletion, \"latitude\"])/2\n",
    "        stations.at[row, \"longitude\"] = (stations.at[row, \"longitude\"] + stations.at[row_for_deletion, \"longitude\"])/2\n",
    "        stations.at[row, \"total_rides\"] = stations.at[row, \"total_rides\"] + stations.at[row_for_deletion, \"total_rides\"]\n",
    "        rows_for_deletion.append(row_for_deletion)\n",
    "\n",
    "stations.drop(index=rows_for_deletion, axis = 0, inplace=True)\n",
    "rides[\"start_station_id\"].replace(to_replace=dict_for_substitute , inplace=True)\n",
    "rides[\"end_station_id\"].replace(to_replace=dict_for_substitute , inplace=True)"
   ]
  },
  {
   "cell_type": "code",
   "execution_count": null,
   "metadata": {},
   "outputs": [],
   "source": [
    "# Výpočet salda a počtu jízd v zadaném intervalu\n",
    "day_start = pd.Timestamp(\"2020-01-01\", unit = \"ns\", tz=\"UTC\")\n",
    "day_end = pd.Timestamp(\"2020-01-31T235959\", unit = \"ns\", tz=\"UTC\")\n",
    "mask = (day_start <= rides[\"started_at\"]) & (rides[\"ended_at\"] <= day_end)\n",
    "rides_end = rides.loc[mask].groupby([\"end_station_id\"])[\"end_station_id\"].count()\n",
    "rides_start = rides.loc[mask].groupby([\"start_station_id\"])[\"start_station_id\"].count()\n",
    "idx = rides_end.index.append(rides_start.index).unique()\n",
    "balance = pd.DataFrame(index=idx)\n",
    "balance[\"end\"] = rides_end \n",
    "balance[\"start\"] = rides_start\n",
    "balance.fillna(0, inplace=True)\n",
    "stations[\"balance\"] = balance[\"end\"] - balance[\"start\"]\n",
    "stations[\"rides\"] = balance[\"end\"] + balance[\"start\"]\n",
    "balance = [0,0]"
   ]
  },
  {
   "cell_type": "code",
   "execution_count": null,
   "metadata": {},
   "outputs": [],
   "source": []
  },
  {
   "cell_type": "code",
   "execution_count": null,
   "metadata": {},
   "outputs": [],
   "source": []
  },
  {
   "cell_type": "code",
   "execution_count": null,
   "metadata": {},
   "outputs": [],
   "source": []
  },
  {
   "cell_type": "code",
   "execution_count": null,
   "metadata": {},
   "outputs": [],
   "source": []
  },
  {
   "cell_type": "code",
   "execution_count": null,
   "metadata": {},
   "outputs": [],
   "source": [
    "# k-means clustering\n",
    "from numpy import unique\n",
    "from numpy import where\n",
    "from sklearn.datasets import make_classification\n",
    "from sklearn.cluster import KMeans\n",
    "from matplotlib import pyplot\n",
    "\n",
    "TOOLTIPS = [(\"id\", \"@{id}\"), (\"(x,y)\", \"(@{latitude}, @{longitude})\"), (\"name\", \"@{name}\"), (\"description\", \"@{description}\"), (\"total rides\", \"@{total_rides}\"),\n",
    "            (\"total balance\", \"@{total_balance}\"), (\"selected rides\", \"@{rides}\"),(\"selected balance\", \"@{balance}\"),]\n",
    "p = figure(plot_width=1200, plot_height=700, tools='reset, pan, wheel_zoom, save, box_zoom', active_scroll=\"wheel_zoom\", x_range=(-380000,-340000), y_range=(7545000,7553000), \n",
    "           x_axis_type=\"mercator\", y_axis_type=\"mercator\", tooltips=TOOLTIPS, title=\"Edinburg - Just Eat Cycles\") # Edinburg\n",
    "p.add_tile(WMTSTileSource(url=\"https://c.tile.openstreetmap.org/{Z}/{X}/{Y}.png\"))\n",
    "\n",
    "# define dataset\n",
    "X = stations[[\"mer_x\", \"mer_y\"]].values.tolist()\n",
    "W = stations[\"total_rides\"].values.tolist()\n",
    "#X, _ = make_classification(n_samples=100, n_features=2, n_informative=2, n_redundant=0, n_clusters_per_class=1, random_state=4)\n",
    "# define the model\n",
    "model = KMeans(n_clusters=20)\n",
    "# fit the model\n",
    "model.fit(X, sample_weight=W)\n",
    "# assign a cluster to each example\n",
    "yhat = model.predict(X, sample_weight=W)\n",
    "# retrieve unique clusters\n",
    "clusters = unique(yhat)\n",
    "# create scatter plot for samples from each cluster\n",
    "for cluster in clusters:\n",
    "    # get row indexes for samples with this cluster\n",
    "    row_ix = where(yhat == cluster)\n",
    "    row_ix = row_ix[0].tolist()\n",
    "    # create scatter of these samples\n",
    "#    pyplot.scatter(X[row_ix[0]][0], X[row_ix[0]][1])\n",
    "    p.scatter(X[row_ix[0]][0], X[row_ix[0]][1], size=W[row_ix[0]]/100, color=\"blue\", alpha=0.3)    # vybírám pouze část sloupců, protože bokeh nemůže mít názvy sloupců čísla !!!\n",
    "    p.scatter(X[row_ix[0]][0], X[row_ix[0]][1], radius=300, color=\"yellow\", alpha=1)\n",
    "\n",
    "p.circle(\"mer_x\", \"mer_y\",  radius=100, color=\"red\", line_width=.8, line_color='black', alpha=0.5, source=ColumnDataSource(data=stations))    \n",
    "show(p)\n",
    "\n",
    "#pyplot.show()"
   ]
  },
  {
   "cell_type": "code",
   "execution_count": null,
   "metadata": {},
   "outputs": [],
   "source": [
    "stations.head()"
   ]
  },
  {
   "cell_type": "code",
   "execution_count": null,
   "metadata": {},
   "outputs": [],
   "source": [
    "\n"
   ]
  },
  {
   "cell_type": "code",
   "execution_count": null,
   "metadata": {},
   "outputs": [],
   "source": []
  },
  {
   "cell_type": "code",
   "execution_count": null,
   "metadata": {},
   "outputs": [],
   "source": [
    "TOOLTIPS = [(\"id\", \"@{id}\"), (\"(x,y)\", \"(@{latitude}, @{longitude})\"), (\"name\", \"@{name}\"), (\"description\", \"@{description}\"), (\"total rides\", \"@{total_rides}\"),\n",
    "            (\"total balance\", \"@{total_balance}\"), (\"selected rides\", \"@{rides}\"),(\"selected balance\", \"@{balance}\"),]\n",
    "start = day_start.strftime(\"%Y-%m-%d\")\n",
    "end = day_end.strftime(\"%Y-%m-%d\")\n",
    "title = f\"Edinburg - Just Eat Cycles - selected balance from {start} to {end}\"\n",
    "\n",
    "p = figure(plot_width=1200, plot_height=700, tools='reset, pan, wheel_zoom, save, box_zoom', active_scroll=\"wheel_zoom\", x_range=(-380000,-340000), y_range=(7545000,7553000), \n",
    "           x_axis_type=\"mercator\", y_axis_type=\"mercator\", tooltips=TOOLTIPS, title=title) # Edinburg\n",
    "p.add_tile(WMTSTileSource(url=\"https://c.tile.openstreetmap.org/{Z}/{X}/{Y}.png\"))\n",
    "\n",
    "#p.circle(\"mer_x\", \"mer_y\",  radius=100, color=\"red\", line_width=.8, line_color='black', alpha=0.5, source=ColumnDataSource(data=stations))     # bokeh nemůže mít názvy sloupců čísla !!!\n",
    "p.circle(\"mer_x\", \"mer_y\", radius=\"balance\", color=\"purple\", alpha=0.8, source=ColumnDataSource(data=stations.loc[stations[\"balance\"]<0]))    #  bokeh nemůže mít názvy sloupců čísla !!!\n",
    "p.circle(\"mer_x\", \"mer_y\", radius=\"balance\", color=\"blue\", alpha=0.6, source=ColumnDataSource(data=stations.loc[stations[\"balance\"]>0]))    #  bokeh nemůže mít názvy sloupců čísla !!!\n",
    "\n",
    "show(p)"
   ]
  },
  {
   "cell_type": "code",
   "execution_count": null,
   "metadata": {},
   "outputs": [],
   "source": [
    "# openstreetmap používá mercator coordináty CIRCLE\n",
    "TOOLTIPS = [(\"id\", \"@{id}\"), (\"(x,y)\", \"(@{latitude}, @{longitude})\"), (\"name\", \"@{name}\"), (\"description\", \"@{description}\"), (\"total rides\", \"@{total_rides}\"),\n",
    "            (\"total balance\", \"@{total_balance}\"), (\"selected rides\", \"@{rides}\"),(\"selected balance\", \"@{balance}\"),]\n",
    "p = figure(plot_width=1200, plot_height=700, tools='reset, pan, wheel_zoom, save, box_zoom', active_scroll=\"wheel_zoom\", x_range=(-380000,-340000), y_range=(7545000,7553000), \n",
    "           x_axis_type=\"mercator\", y_axis_type=\"mercator\", tooltips=TOOLTIPS, title=\"Edinburg - Just Eat Cycles - stations\") # Edinburg\n",
    "p.add_tile(WMTSTileSource(url=\"https://c.tile.openstreetmap.org/{Z}/{X}/{Y}.png\"))\n",
    "\n",
    "p.circle(\"mer_x\", \"mer_y\",  radius=100, color=\"red\", line_width=.8, line_color='black', alpha=0.5, source=ColumnDataSource(data=stations))    # bokeh nemůže mít názvy sloupců čísla !!!\n",
    "show(p)"
   ]
  }
 ],
 "metadata": {
  "kernelspec": {
   "display_name": "Python 3",
   "language": "python",
   "name": "python3"
  },
  "language_info": {
   "codemirror_mode": {
    "name": "ipython",
    "version": 3
   },
   "file_extension": ".py",
   "mimetype": "text/x-python",
   "name": "python",
   "nbconvert_exporter": "python",
   "pygments_lexer": "ipython3",
   "version": "3.8.3"
  }
 },
 "nbformat": 4,
 "nbformat_minor": 4
}
