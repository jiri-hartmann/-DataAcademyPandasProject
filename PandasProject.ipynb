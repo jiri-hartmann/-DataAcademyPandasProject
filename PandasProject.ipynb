{
 "cells": [
  {
   "cell_type": "markdown",
   "metadata": {},
   "source": [
    "https://edinburghcyclehire.com/\n",
    "Souřadnnice sanic jsou uváděny na 14 respektive 16 desetinných míst (Decimal degrees in WGS84).\n",
    "\n"
   ]
  },
  {
   "cell_type": "raw",
   "metadata": {},
   "source": []
  },
  {
   "cell_type": "code",
   "execution_count": 251,
   "metadata": {},
   "outputs": [],
   "source": [
    "pd.set_option('display.max_rows', 500)\n",
    "pd.set_option('display.max_columns', 500)\n",
    "pd.set_option('display.max_colwidth', None)\n",
    "pd.set_option('display.width', 500)\n",
    "pd.set_option(\"display.precision\", 14)"
   ]
  },
  {
   "cell_type": "code",
   "execution_count": 252,
   "metadata": {},
   "outputs": [],
   "source": [
    "import numpy as np\n",
    "import pandas as pd"
   ]
  },
  {
   "cell_type": "code",
   "execution_count": 253,
   "metadata": {},
   "outputs": [],
   "source": [
    "rides = pd.read_csv(\"201809-202010.csv\", parse_dates=[0,1], usecols = [\"started_at\",\"ended_at\",\"duration\",\"start_station_id\", \"end_station_id\"])    "
   ]
  },
  {
   "cell_type": "code",
   "execution_count": 254,
   "metadata": {},
   "outputs": [],
   "source": [
    "# Vytvoření tabulky obsahující stanice = načtení z csv a dopočítání vzdálenosti mezi stanicemi.\n",
    "# Zdrojová data obsahují nekonzistence v názvech a popisech stanic. Jejich zeměpisná šířka a délka také není u všech údajů stejná. To přičítám odchylce GPS a různému umístění kola.\n",
    "# Některé stanice jsou jen v konečné stanici (například stanice id=242). \n",
    "# Celková tabulka stations je vytvořena spojením informací ze \"start\" a \"end\" slouců. Duplicity jsou vyřešeny vybráním prvního popisu a průměrem souřadnic.\n",
    "# Načtení informací o \"start\" a \"end\" stanicích:\n",
    "stations = pd.read_csv(\"201809-202010.csv\", index_col = \"start_station_id\", usecols = [\"start_station_id\",\"start_station_name\",\"start_station_description\",\"start_station_latitude\", \"start_station_longitude\"])   \n",
    "end_stations = pd.read_csv(\"201809-202010.csv\", index_col = \"end_station_id\", usecols = [\"end_station_id\",\"end_station_name\",\"end_station_description\",\"end_station_latitude\", \"end_station_longitude\"])  \n",
    "# Přejmenování sloupců a indexu:\n",
    "column_names = {\"start_station_name\":\"name\",\"start_station_description\":\"description\",\"start_station_latitude\":\"latitude\", \"start_station_longitude\":\"longitude\"}\n",
    "stations.rename(columns=column_names, index={\"start_station_id\": \"idd\"}, inplace=True)\n",
    "stations.index.names = ['id']\n",
    "end_column_names = {\"end_station_name\":\"name\",\"end_station_description\":\"description\",\"end_station_latitude\":\"latitude\", \"end_station_longitude\":\"longitude\"}\n",
    "end_stations.rename(columns=end_column_names, index={'end_station_id': 'id'}, inplace=True)\n",
    "end_stations.index.names = ['id']\n",
    "# Sloučení informací o \"start\" a \"end\" stanicích a jejich setřídění:\n",
    "stations = stations.append(end_stations)\n",
    "stations.sort_index(axis=\"index\", inplace = True)\n",
    "# Výpočet průměrných koorinátů a přidání k prvním názvům a popisům stanic:\n",
    "stations_coord_mean = stations.groupby([\"id\"]).mean()\n",
    "stations = stations.groupby([\"id\"]).first()\n",
    "stations[\"latitude\"] = stations_coord_mean[\"latitude\"]\n",
    "stations[\"longitude\"] = stations_coord_mean[\"longitude\"]\n",
    "# Vymazání dočasných df:\n",
    "end_stations = end_stations[0:0]\n",
    "stations_coord_mean = stations_coord_mean[0:0]"
   ]
  },
  {
   "cell_type": "code",
   "execution_count": 255,
   "metadata": {},
   "outputs": [
    {
     "data": {
      "text/html": [
       "<div>\n",
       "<style scoped>\n",
       "    .dataframe tbody tr th:only-of-type {\n",
       "        vertical-align: middle;\n",
       "    }\n",
       "\n",
       "    .dataframe tbody tr th {\n",
       "        vertical-align: top;\n",
       "    }\n",
       "\n",
       "    .dataframe thead th {\n",
       "        text-align: right;\n",
       "    }\n",
       "</style>\n",
       "<table border=\"1\" class=\"dataframe\">\n",
       "  <thead>\n",
       "    <tr style=\"text-align: right;\">\n",
       "      <th></th>\n",
       "      <th>name</th>\n",
       "      <th>description</th>\n",
       "      <th>latitude</th>\n",
       "      <th>longitude</th>\n",
       "    </tr>\n",
       "    <tr>\n",
       "      <th>id</th>\n",
       "      <th></th>\n",
       "      <th></th>\n",
       "      <th></th>\n",
       "      <th></th>\n",
       "    </tr>\n",
       "  </thead>\n",
       "  <tbody>\n",
       "    <tr>\n",
       "      <th>171</th>\n",
       "      <td>George Square</td>\n",
       "      <td>George Square, south side in front of University library</td>\n",
       "      <td>55.94308406300859</td>\n",
       "      <td>-3.18831107272196</td>\n",
       "    </tr>\n",
       "    <tr>\n",
       "      <th>183</th>\n",
       "      <td>Waverley Bridge</td>\n",
       "      <td>near the top of the South ramp</td>\n",
       "      <td>55.95158115432231</td>\n",
       "      <td>-3.19159561359431</td>\n",
       "    </tr>\n",
       "    <tr>\n",
       "      <th>189</th>\n",
       "      <td>City Chambers</td>\n",
       "      <td>City Chambers Quadrangle</td>\n",
       "      <td>55.95010933018049</td>\n",
       "      <td>-3.19025777009335</td>\n",
       "    </tr>\n",
       "    <tr>\n",
       "      <th>225</th>\n",
       "      <td>Waverley Court</td>\n",
       "      <td>On Waverley Court forecourt</td>\n",
       "      <td>55.95173449698063</td>\n",
       "      <td>-3.18417853540628</td>\n",
       "    </tr>\n",
       "    <tr>\n",
       "      <th>241</th>\n",
       "      <td>Depot</td>\n",
       "      <td>Depot</td>\n",
       "      <td>55.97237325804326</td>\n",
       "      <td>-3.15583315076697</td>\n",
       "    </tr>\n",
       "  </tbody>\n",
       "</table>\n",
       "</div>"
      ],
      "text/plain": [
       "                name                                               description           latitude         longitude\n",
       "id                                                                                                                 \n",
       "171    George Square  George Square, south side in front of University library  55.94308406300859 -3.18831107272196\n",
       "183  Waverley Bridge                            near the top of the South ramp  55.95158115432231 -3.19159561359431\n",
       "189    City Chambers                                  City Chambers Quadrangle  55.95010933018049 -3.19025777009335\n",
       "225   Waverley Court                               On Waverley Court forecourt  55.95173449698063 -3.18417853540628\n",
       "241            Depot                                                     Depot  55.97237325804326 -3.15583315076697"
      ]
     },
     "execution_count": 255,
     "metadata": {},
     "output_type": "execute_result"
    }
   ],
   "source": [
    "stations.head(5)"
   ]
  },
  {
   "cell_type": "code",
   "execution_count": null,
   "metadata": {},
   "outputs": [],
   "source": []
  },
  {
   "cell_type": "code",
   "execution_count": null,
   "metadata": {},
   "outputs": [],
   "source": []
  },
  {
   "cell_type": "code",
   "execution_count": null,
   "metadata": {},
   "outputs": [],
   "source": []
  },
  {
   "cell_type": "code",
   "execution_count": null,
   "metadata": {},
   "outputs": [],
   "source": []
  }
 ],
 "metadata": {
  "kernelspec": {
   "display_name": "Python 3",
   "language": "python",
   "name": "python3"
  },
  "language_info": {
   "codemirror_mode": {
    "name": "ipython",
    "version": 3
   },
   "file_extension": ".py",
   "mimetype": "text/x-python",
   "name": "python",
   "nbconvert_exporter": "python",
   "pygments_lexer": "ipython3",
   "version": "3.8.3"
  }
 },
 "nbformat": 4,
 "nbformat_minor": 4
}
