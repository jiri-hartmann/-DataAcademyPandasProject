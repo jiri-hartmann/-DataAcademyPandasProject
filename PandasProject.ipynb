{
 "cells": [
  {
   "cell_type": "markdown",
   "metadata": {},
   "source": [
    "https://edinburghcyclehire.com/\n",
    "Souřadnnice sanic jsou uváděny na 14 respektive 16 desetinných míst (Decimal degrees in WGS84).\n",
    "\n"
   ]
  },
  {
   "cell_type": "raw",
   "metadata": {},
   "source": [
    "lze načíst výšku stanic z openstreetmap.org ?\n",
    "\n",
    "doplnit údaj o počtu použití a prvním použití do df stations\n",
    "doplnit vzdálenosti mezi stanicemi \n",
    "\n",
    "Vyřešení nekonzistence údajů o stanicích:\n",
    " - vyčištění duplicitních stanic (vzdálenost od nejbližší <25 m): přepsání v df rides, vymazání ze df stations, zůstane ta s větším počtem použití\n",
    " - vyčištění fake stanic (méně použití než 10x a zároveň první použití < dnes-60 dní abychom nezahodili nové stanice): vymazání v df rides a df stations\n",
    " - vyčištění zvláštních stanic (vzdálenost od nejbližší > 25.000 m): vymazání v df rides a df stations\n",
    " \n",
    " \n"
   ]
  },
  {
   "cell_type": "code",
   "execution_count": null,
   "metadata": {},
   "outputs": [],
   "source": []
  },
  {
   "cell_type": "code",
   "execution_count": null,
   "metadata": {},
   "outputs": [],
   "source": [
    "import numpy as np\n",
    "import pandas as pd\n",
    "# import matplotlib.pyplot as plt\n",
    "# import matplotlib.image as mpimg\n",
    "from bokeh.io import output_notebook, show\n",
    "from bokeh.models import WMTSTileSource\n",
    "from bokeh.plotting import figure, ColumnDataSource\n",
    "pd.set_option('display.max_rows', 500)\n",
    "pd.set_option('display.max_columns', 200)\n",
    "pd.set_option('display.max_colwidth', None)\n",
    "pd.set_option('display.width', 500)\n",
    "pd.set_option(\"display.precision\", 14)\n",
    "output_notebook()"
   ]
  },
  {
   "cell_type": "code",
   "execution_count": null,
   "metadata": {},
   "outputs": [],
   "source": [
    "# vyloučit 3 \"jízdy\" s end stanicí 280 (Exhibition Centre Liverpool)\n",
    "rides = pd.read_csv(\"201809-202010.csv\", parse_dates=[0,1], usecols = [\"started_at\",\"ended_at\",\"duration\",\"start_station_id\", \"end_station_id\"])    "
   ]
  },
  {
   "cell_type": "code",
   "execution_count": null,
   "metadata": {},
   "outputs": [],
   "source": [
    "# Vytvoření tabulky obsahující stanice = načtení z csv a dopočítání vzdálenosti mezi stanicemi.\n",
    "# Zdrojová data obsahují nekonzistence v názvech a popisech stanic. Jejich zeměpisná šířka a délka také není u všech údajů stejná. To přičítám odchylce GPS a různému umístění kola.\n",
    "# Vymazána ? koncová stanice id 280 - Exhibition Centre Liverpool (výstava kol).\n",
    "# Celková tabulka stations je vytvořena spojením informací ze \"start\" a \"end\" slouců. Duplicity jsou řešeny vybráním prvního popisu a průměrem souřadnic - vše dle id.\n",
    "# Další nekonzistencí je existence více stanic na jednom místě. Vyberu ty, které mají více použití.\n",
    "# Načtení informací o \"start\" a \"end\" stanicích:\n",
    "# Některé stanice jsou dočasné během akcí - zatím njsou dohromady s ostatními\n",
    "stations = pd.read_csv(\"201809-202010.csv\", index_col = \"start_station_id\", usecols = [\"start_station_id\",\"start_station_name\",\"start_station_description\",\"start_station_latitude\", \"start_station_longitude\"])   \n",
    "end_stations = pd.read_csv(\"201809-202010.csv\", index_col = \"end_station_id\", usecols = [\"end_station_id\",\"end_station_name\",\"end_station_description\",\"end_station_latitude\", \"end_station_longitude\"])  \n",
    "# Přejmenování sloupců a indexu:\n",
    "column_names = {\"start_station_name\":\"name\",\"start_station_description\":\"description\",\"start_station_latitude\":\"latitude\", \"start_station_longitude\":\"longitude\"}\n",
    "stations.rename(columns=column_names, index={\"start_station_id\": \"idd\"}, inplace=True)\n",
    "stations.index.names = ['id']\n",
    "end_column_names = {\"end_station_name\":\"name\",\"end_station_description\":\"description\",\"end_station_latitude\":\"latitude\", \"end_station_longitude\":\"longitude\"}\n",
    "end_stations.rename(columns=end_column_names, index={'end_station_id': 'id'}, inplace=True)\n",
    "end_stations.index.names = ['id']\n",
    "# Sloučení informací o \"start\" a \"end\" stanicích a jejich setřídění:\n",
    "stations = stations.append(end_stations)\n",
    "stations.sort_index(axis=\"index\", inplace = True)\n",
    "# Výpočet průměrných koorinátů a přidání k prvním názvům a popisům stanic:\n",
    "stations_coord_mean = stations.groupby([\"id\"]).mean()\n",
    "stations = stations.groupby([\"id\"]).first()\n",
    "stations[\"latitude\"] = stations_coord_mean[\"latitude\"]\n",
    "stations[\"longitude\"] = stations_coord_mean[\"longitude\"]\n",
    "# Vymazána koncová stanice id 280 - Exhibition Centre Liverpool (výstava kol). Lepším řešením je vymazat \"stanice\", které jsou vzdáleny od Edinburgu víc než 50? km.\n",
    "# stations.drop(280, inplace=True)\n",
    "# přepočet wgs84 souřadnic na  Mercator projekci pro použití v WMTS tile map v openstreetmap.org \n",
    "stations[\"mer_x\"] = stations[\"longitude\"] * (6378137 * np.pi/180.0)\n",
    "stations[\"mer_y\"] = np.log(np.tan((90 + stations[\"latitude\"]) * np.pi/360.0)) * 6378137\n",
    "# Vymazání dočasných df:\n",
    "end_stations = end_stations[0:0]\n",
    "stations_coord_mean = stations_coord_mean[0:0]"
   ]
  },
  {
   "cell_type": "code",
   "execution_count": null,
   "metadata": {},
   "outputs": [],
   "source": [
    "# První použití stanic:\n",
    "stations[\"first_ride\"] = rides.groupby([\"start_station_id\"]).min()[[\"started_at\"]] \n",
    "stations[\"first_ride_tmp\"] = rides.groupby([\"end_station_id\"]).min()[[\"started_at\"]] \n",
    "mfilter = (stations[\"first_ride\"] > stations[\"first_ride_tmp\"]) | (stations[\"first_ride\"].isnull())\n",
    "stations.loc[mfilter, \"first_ride\"] = stations.loc[mfilter, \"first_ride_tmp\"]\n",
    "stations.drop(\"first_ride_tmp\", axis=1, inplace=True)\n",
    "#Počet použití stanic:\n",
    "stations[\"number_of_rides\"] = rides.groupby([\"start_station_id\"]).count()[[\"duration\"]].replace(np.nan, 0) + rides.groupby([\"end_station_id\"]).count()[[\"duration\"]].replace(np.nan, 0)\n",
    "# dodělat NaN problém"
   ]
  },
  {
   "cell_type": "code",
   "execution_count": null,
   "metadata": {},
   "outputs": [],
   "source": [
    "stations"
   ]
  },
  {
   "cell_type": "code",
   "execution_count": null,
   "metadata": {},
   "outputs": [],
   "source": [
    "stations.head()"
   ]
  },
  {
   "cell_type": "code",
   "execution_count": null,
   "metadata": {},
   "outputs": [],
   "source": [
    "stations.loc[stations[\"latitude\"]==55.94308406300859]"
   ]
  },
  {
   "cell_type": "code",
   "execution_count": null,
   "metadata": {},
   "outputs": [],
   "source": [
    "stations.loc[[862, 1722], : ]"
   ]
  },
  {
   "cell_type": "code",
   "execution_count": null,
   "metadata": {},
   "outputs": [],
   "source": [
    "stations.iloc[1, : ]"
   ]
  },
  {
   "cell_type": "code",
   "execution_count": null,
   "metadata": {},
   "outputs": [],
   "source": [
    "rides.head()"
   ]
  },
  {
   "cell_type": "code",
   "execution_count": null,
   "metadata": {},
   "outputs": [],
   "source": []
  },
  {
   "cell_type": "code",
   "execution_count": null,
   "metadata": {},
   "outputs": [],
   "source": []
  },
  {
   "cell_type": "code",
   "execution_count": null,
   "metadata": {},
   "outputs": [],
   "source": [
    "stations.loc[stations[\"first_ride\"] == pd.NaT]"
   ]
  },
  {
   "cell_type": "code",
   "execution_count": null,
   "metadata": {},
   "outputs": [],
   "source": [
    "rides.head()"
   ]
  },
  {
   "cell_type": "code",
   "execution_count": null,
   "metadata": {},
   "outputs": [],
   "source": [
    "1 + pd.NaT\n",
    "\n"
   ]
  },
  {
   "cell_type": "code",
   "execution_count": null,
   "metadata": {},
   "outputs": [],
   "source": []
  },
  {
   "cell_type": "code",
   "execution_count": null,
   "metadata": {},
   "outputs": [],
   "source": [
    "rides.loc[rides[\"start_station_id\"]==1857]"
   ]
  },
  {
   "cell_type": "code",
   "execution_count": null,
   "metadata": {},
   "outputs": [],
   "source": [
    "stations[\"number_of_rides\"] = rides.groupby([\"start_station_id\"]).count()[[\"duration\"]] + rides.groupby([\"end_station_id\"]).count()[[\"duration\"]]\n",
    "\n"
   ]
  },
  {
   "cell_type": "code",
   "execution_count": null,
   "metadata": {},
   "outputs": [],
   "source": [
    "rides_count.head()"
   ]
  },
  {
   "cell_type": "code",
   "execution_count": null,
   "metadata": {},
   "outputs": [],
   "source": []
  },
  {
   "cell_type": "code",
   "execution_count": null,
   "metadata": {},
   "outputs": [],
   "source": []
  },
  {
   "cell_type": "code",
   "execution_count": null,
   "metadata": {},
   "outputs": [],
   "source": []
  },
  {
   "cell_type": "code",
   "execution_count": null,
   "metadata": {},
   "outputs": [],
   "source": []
  },
  {
   "cell_type": "code",
   "execution_count": null,
   "metadata": {},
   "outputs": [],
   "source": []
  },
  {
   "cell_type": "code",
   "execution_count": null,
   "metadata": {},
   "outputs": [],
   "source": []
  },
  {
   "cell_type": "code",
   "execution_count": null,
   "metadata": {},
   "outputs": [],
   "source": [
    "# openstreetmap používá mercator coordináty\n",
    "TOOLTIPS = [(\"id\", \"@{id}\"), (\"(x,y)\", \"(@{latitude}, @{longitude})\"), (\"name\", \"@{name}\"), (\"desc\", \"@{description}\"), ]\n",
    "p = figure(plot_width=1200, plot_height=700, tools='reset, pan, wheel_zoom, save, box_zoom', x_range=(-380000,-340000), y_range=(7545000,7553000), \n",
    "           x_axis_type=\"mercator\", y_axis_type=\"mercator\", tooltips=TOOLTIPS, title=\"Edinburg - Just Eat Cycles\") # Edinburg\n",
    "p.add_tile(WMTSTileSource(url=\"https://c.tile.openstreetmap.org/{Z}/{X}/{Y}.png\"))\n",
    "p.circle(\"mer_x\", \"mer_y\", size=8, color=\"red\", alpha=1, source=ColumnDataSource(data=stations))\n",
    "show(p)"
   ]
  },
  {
   "cell_type": "code",
   "execution_count": null,
   "metadata": {},
   "outputs": [],
   "source": []
  }
 ],
 "metadata": {
  "kernelspec": {
   "display_name": "Python 3",
   "language": "python",
   "name": "python3"
  },
  "language_info": {
   "codemirror_mode": {
    "name": "ipython",
    "version": 3
   },
   "file_extension": ".py",
   "mimetype": "text/x-python",
   "name": "python",
   "nbconvert_exporter": "python",
   "pygments_lexer": "ipython3",
   "version": "3.8.3"
  }
 },
 "nbformat": 4,
 "nbformat_minor": 4
}
